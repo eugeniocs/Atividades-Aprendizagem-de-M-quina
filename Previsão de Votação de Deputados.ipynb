{
 "cells": [
  {
   "cell_type": "markdown",
   "metadata": {},
   "source": [
    "# INICIALIZAÇÃO"
   ]
  },
  {
   "cell_type": "code",
   "execution_count": 2,
   "metadata": {
    "scrolled": false
   },
   "outputs": [],
   "source": [
    "import pandas as pd\n",
    "import numpy as np\n",
    "import seaborn as sns\n",
    "import matplotlib\n",
    "import matplotlib.pyplot as plt\n",
    "from scipy.stats import skew\n",
    "from scipy.stats.stats import pearsonr\n",
    "from sklearn.preprocessing import PolynomialFeatures\n",
    "from sklearn.pipeline import make_pipeline \n",
    "from sklearn.linear_model import LinearRegression\n",
    "\n",
    "%config InlineBackend.figure_format = 'retina'\n",
    "%matplotlib inline\n",
    "\n",
    "data = pd.read_csv(\"eleicoes_2006_a_2010.csv\")"
   ]
  },
  {
   "cell_type": "code",
   "execution_count": 25,
   "metadata": {},
   "outputs": [
    {
     "data": {
      "text/html": [
       "<div>\n",
       "<style scoped>\n",
       "    .dataframe tbody tr th:only-of-type {\n",
       "        vertical-align: middle;\n",
       "    }\n",
       "\n",
       "    .dataframe tbody tr th {\n",
       "        vertical-align: top;\n",
       "    }\n",
       "\n",
       "    .dataframe thead th {\n",
       "        text-align: right;\n",
       "    }\n",
       "</style>\n",
       "<table border=\"1\" class=\"dataframe\">\n",
       "  <thead>\n",
       "    <tr style=\"text-align: right;\">\n",
       "      <th></th>\n",
       "      <th>ano</th>\n",
       "      <th>quantidade_doacoes</th>\n",
       "      <th>quantidade_doadores</th>\n",
       "      <th>total_receita</th>\n",
       "      <th>media_receita</th>\n",
       "      <th>recursos_de_outros_candidatos/comites</th>\n",
       "      <th>recursos_de_pessoas_fisicas</th>\n",
       "      <th>recursos_de_pessoas_juridicas</th>\n",
       "      <th>recursos_proprios</th>\n",
       "      <th>quantidade_despesas</th>\n",
       "      <th>...</th>\n",
       "      <th>ocupacao_TÉCNICO DE OBRAS CIVIS, ESTRADAS, SANEAMENTO E ASSEMELHADOS</th>\n",
       "      <th>ocupacao_TÉCNICO EM AGRONOMIA E AGRIMENSURA</th>\n",
       "      <th>ocupacao_TÉCNICO EM EDIFICAÇÕES</th>\n",
       "      <th>ocupacao_TÉCNICO EM INFORMÁTICA</th>\n",
       "      <th>ocupacao_VENDEDOR DE COMÉRCIO VAREJISTA E ATACADISTA</th>\n",
       "      <th>ocupacao_VENDEDOR PRACISTA, REPRESENTANTE, CAIXEIRO-VIAJANTE E ASSEMELHADOS</th>\n",
       "      <th>ocupacao_VEREADOR</th>\n",
       "      <th>ocupacao_VETERINÁRIO</th>\n",
       "      <th>ocupacao_VIGILANTE</th>\n",
       "      <th>ocupacao_ZOOTECNISTA</th>\n",
       "    </tr>\n",
       "  </thead>\n",
       "  <tbody>\n",
       "    <tr>\n",
       "      <th>0</th>\n",
       "      <td>2006</td>\n",
       "      <td>1.945910</td>\n",
       "      <td>1.945910</td>\n",
       "      <td>9.717218</td>\n",
       "      <td>7.925760</td>\n",
       "      <td>8.324939</td>\n",
       "      <td>9.105091</td>\n",
       "      <td>8.748464</td>\n",
       "      <td>7.170888</td>\n",
       "      <td>2.708050</td>\n",
       "      <td>...</td>\n",
       "      <td>0</td>\n",
       "      <td>0</td>\n",
       "      <td>0</td>\n",
       "      <td>0</td>\n",
       "      <td>0</td>\n",
       "      <td>0</td>\n",
       "      <td>1</td>\n",
       "      <td>0</td>\n",
       "      <td>0</td>\n",
       "      <td>0</td>\n",
       "    </tr>\n",
       "    <tr>\n",
       "      <th>1</th>\n",
       "      <td>2006</td>\n",
       "      <td>2.639057</td>\n",
       "      <td>2.639057</td>\n",
       "      <td>10.035699</td>\n",
       "      <td>7.471276</td>\n",
       "      <td>8.798757</td>\n",
       "      <td>9.615872</td>\n",
       "      <td>6.908755</td>\n",
       "      <td>5.308268</td>\n",
       "      <td>3.218876</td>\n",
       "      <td>...</td>\n",
       "      <td>0</td>\n",
       "      <td>0</td>\n",
       "      <td>0</td>\n",
       "      <td>0</td>\n",
       "      <td>0</td>\n",
       "      <td>0</td>\n",
       "      <td>0</td>\n",
       "      <td>0</td>\n",
       "      <td>0</td>\n",
       "      <td>0</td>\n",
       "    </tr>\n",
       "    <tr>\n",
       "      <th>2</th>\n",
       "      <td>2006</td>\n",
       "      <td>2.890372</td>\n",
       "      <td>2.833213</td>\n",
       "      <td>11.905790</td>\n",
       "      <td>9.133303</td>\n",
       "      <td>7.719130</td>\n",
       "      <td>10.438547</td>\n",
       "      <td>11.038461</td>\n",
       "      <td>10.993748</td>\n",
       "      <td>4.820282</td>\n",
       "      <td>...</td>\n",
       "      <td>0</td>\n",
       "      <td>0</td>\n",
       "      <td>0</td>\n",
       "      <td>0</td>\n",
       "      <td>0</td>\n",
       "      <td>0</td>\n",
       "      <td>0</td>\n",
       "      <td>0</td>\n",
       "      <td>0</td>\n",
       "      <td>0</td>\n",
       "    </tr>\n",
       "    <tr>\n",
       "      <th>3</th>\n",
       "      <td>2006</td>\n",
       "      <td>1.945910</td>\n",
       "      <td>1.945910</td>\n",
       "      <td>8.007074</td>\n",
       "      <td>6.216979</td>\n",
       "      <td>8.324939</td>\n",
       "      <td>7.048386</td>\n",
       "      <td>7.004991</td>\n",
       "      <td>6.621406</td>\n",
       "      <td>2.197225</td>\n",
       "      <td>...</td>\n",
       "      <td>0</td>\n",
       "      <td>0</td>\n",
       "      <td>0</td>\n",
       "      <td>0</td>\n",
       "      <td>0</td>\n",
       "      <td>0</td>\n",
       "      <td>0</td>\n",
       "      <td>0</td>\n",
       "      <td>0</td>\n",
       "      <td>0</td>\n",
       "    </tr>\n",
       "    <tr>\n",
       "      <th>4</th>\n",
       "      <td>2006</td>\n",
       "      <td>3.891820</td>\n",
       "      <td>3.891820</td>\n",
       "      <td>9.634619</td>\n",
       "      <td>7.466020</td>\n",
       "      <td>8.324939</td>\n",
       "      <td>10.837206</td>\n",
       "      <td>10.011960</td>\n",
       "      <td>11.141035</td>\n",
       "      <td>4.897840</td>\n",
       "      <td>...</td>\n",
       "      <td>0</td>\n",
       "      <td>0</td>\n",
       "      <td>0</td>\n",
       "      <td>0</td>\n",
       "      <td>0</td>\n",
       "      <td>0</td>\n",
       "      <td>0</td>\n",
       "      <td>0</td>\n",
       "      <td>0</td>\n",
       "      <td>0</td>\n",
       "    </tr>\n",
       "  </tbody>\n",
       "</table>\n",
       "<p>5 rows × 262 columns</p>\n",
       "</div>"
      ],
      "text/plain": [
       "    ano  quantidade_doacoes  quantidade_doadores  total_receita  \\\n",
       "0  2006            1.945910             1.945910       9.717218   \n",
       "1  2006            2.639057             2.639057      10.035699   \n",
       "2  2006            2.890372             2.833213      11.905790   \n",
       "3  2006            1.945910             1.945910       8.007074   \n",
       "4  2006            3.891820             3.891820       9.634619   \n",
       "\n",
       "   media_receita  recursos_de_outros_candidatos/comites  \\\n",
       "0       7.925760                               8.324939   \n",
       "1       7.471276                               8.798757   \n",
       "2       9.133303                               7.719130   \n",
       "3       6.216979                               8.324939   \n",
       "4       7.466020                               8.324939   \n",
       "\n",
       "   recursos_de_pessoas_fisicas  recursos_de_pessoas_juridicas  \\\n",
       "0                     9.105091                       8.748464   \n",
       "1                     9.615872                       6.908755   \n",
       "2                    10.438547                      11.038461   \n",
       "3                     7.048386                       7.004991   \n",
       "4                    10.837206                      10.011960   \n",
       "\n",
       "   recursos_proprios  quantidade_despesas          ...           \\\n",
       "0           7.170888             2.708050          ...            \n",
       "1           5.308268             3.218876          ...            \n",
       "2          10.993748             4.820282          ...            \n",
       "3           6.621406             2.197225          ...            \n",
       "4          11.141035             4.897840          ...            \n",
       "\n",
       "   ocupacao_TÉCNICO DE OBRAS CIVIS, ESTRADAS, SANEAMENTO E ASSEMELHADOS  \\\n",
       "0                                                  0                      \n",
       "1                                                  0                      \n",
       "2                                                  0                      \n",
       "3                                                  0                      \n",
       "4                                                  0                      \n",
       "\n",
       "   ocupacao_TÉCNICO EM AGRONOMIA E AGRIMENSURA  \\\n",
       "0                                            0   \n",
       "1                                            0   \n",
       "2                                            0   \n",
       "3                                            0   \n",
       "4                                            0   \n",
       "\n",
       "   ocupacao_TÉCNICO EM EDIFICAÇÕES  ocupacao_TÉCNICO EM INFORMÁTICA  \\\n",
       "0                                0                                0   \n",
       "1                                0                                0   \n",
       "2                                0                                0   \n",
       "3                                0                                0   \n",
       "4                                0                                0   \n",
       "\n",
       "   ocupacao_VENDEDOR DE COMÉRCIO VAREJISTA E ATACADISTA  \\\n",
       "0                                                  0      \n",
       "1                                                  0      \n",
       "2                                                  0      \n",
       "3                                                  0      \n",
       "4                                                  0      \n",
       "\n",
       "   ocupacao_VENDEDOR PRACISTA, REPRESENTANTE, CAIXEIRO-VIAJANTE E ASSEMELHADOS  \\\n",
       "0                                                  0                             \n",
       "1                                                  0                             \n",
       "2                                                  0                             \n",
       "3                                                  0                             \n",
       "4                                                  0                             \n",
       "\n",
       "   ocupacao_VEREADOR  ocupacao_VETERINÁRIO  ocupacao_VIGILANTE  \\\n",
       "0                  1                     0                   0   \n",
       "1                  0                     0                   0   \n",
       "2                  0                     0                   0   \n",
       "3                  0                     0                   0   \n",
       "4                  0                     0                   0   \n",
       "\n",
       "   ocupacao_ZOOTECNISTA  \n",
       "0                     0  \n",
       "1                     0  \n",
       "2                     0  \n",
       "3                     0  \n",
       "4                     0  \n",
       "\n",
       "[5 rows x 262 columns]"
      ]
     },
     "execution_count": 25,
     "metadata": {},
     "output_type": "execute_result"
    }
   ],
   "source": [
    "#exibindo os dados originais\n",
    "data.head()"
   ]
  },
  {
   "cell_type": "markdown",
   "metadata": {},
   "source": [
    "# PRÉ-PROCESSAMENTO"
   ]
  },
  {
   "cell_type": "markdown",
   "metadata": {},
   "source": [
    "## Normalizando as características"
   ]
  },
  {
   "cell_type": "code",
   "execution_count": 4,
   "metadata": {},
   "outputs": [
    {
     "data": {
      "text/plain": [
       "array([[<matplotlib.axes._subplots.AxesSubplot object at 0x13112CF0>,\n",
       "        <matplotlib.axes._subplots.AxesSubplot object at 0x141E6710>]],\n",
       "      dtype=object)"
      ]
     },
     "execution_count": 4,
     "metadata": {},
     "output_type": "execute_result"
    },
    {
     "data": {
      "image/png": "[encoded data removed]",
      "text/plain": [
       "<Figure size 864x432 with 2 Axes>"
      ]
     },
     "metadata": {
      "image/png": {
       "height": 372,
       "width": 734
      },
      "needs_background": "light"
     },
     "output_type": "display_data"
    }
   ],
   "source": [
    "#Analise por meio de histogramas o enviesamento da variável 'votos' com relação ao log+1 dela \n",
    "matplotlib.rcParams['figure.figsize'] = (12.0, 6.0);\n",
    "votos = pd.DataFrame({\"votos\":data[\"votos\"], \"log(votos + 1)\":np.log1p(data[\"votos\"])});\n",
    "votos.hist()"
   ]
  },
  {
   "cell_type": "code",
   "execution_count": 5,
   "metadata": {},
   "outputs": [],
   "source": [
    "#Conforme observado, a variável estava enviesada, com isso, foi atualizada pelo valor do log+1 dela\n",
    "data[\"votos\"] = np.log1p(data[\"votos\"])\n",
    "\n",
    "#Nesse momento, todos as variáveis são atualizadas pelo log+1 delas com relação ao nível de skewness delas\n",
    "numeric_feats = data.dtypes[data.dtypes != \"object\"].index\n",
    "\n",
    "skewed_feats = data[numeric_feats].apply(lambda x: skew(x.dropna())) #compute skewness\n",
    "skewed_feats = skewed_feats[skewed_feats > 0.75]\n",
    "skewed_feats = skewed_feats.index\n",
    "\n",
    "data[skewed_feats] = np.log1p(data[skewed_feats])"
   ]
  },
  {
   "cell_type": "markdown",
   "metadata": {},
   "source": [
    "## Alterando variáveis categóricas"
   ]
  },
  {
   "cell_type": "code",
   "execution_count": 6,
   "metadata": {},
   "outputs": [],
   "source": [
    "#removendo coluna 'nomes' e 'sequencial_candidato' para reduzir dimensões da matriz e por considerar que não são influenciadores\n",
    "data = data.drop([\"nome\"],axis=1)\n",
    "data = data.drop([\"sequencial_candidato\"],axis=1)\n",
    "\n",
    "data = pd.get_dummies(data)"
   ]
  },
  {
   "cell_type": "markdown",
   "metadata": {},
   "source": [
    "## Preenchendo cada \"NA\" com as médias de suas respectivas variáveis"
   ]
  },
  {
   "cell_type": "code",
   "execution_count": 7,
   "metadata": {},
   "outputs": [],
   "source": [
    "data = data.fillna(data.mean())"
   ]
  },
  {
   "cell_type": "markdown",
   "metadata": {},
   "source": [
    "# REALIZAÇÃO DOS EXPERIMENTOS"
   ]
  },
  {
   "cell_type": "code",
   "execution_count": 29,
   "metadata": {},
   "outputs": [],
   "source": [
    "#Dividindo os conjuntos de dados em treino e teste\n",
    "x_train = data.loc[:,'ano':'ocupacao_ZOOTECNISTA']\n",
    "y_train = data.votos"
   ]
  },
  {
   "cell_type": "code",
   "execution_count": null,
   "metadata": {},
   "outputs": [],
   "source": [
    "#Testes com regressão linear multipla de grau 10, sem regularização\n",
    "model = make_pipeline(PolynomialFeatures(10),LinearRegression()) \n",
    "model.fit(x_train,y_train)"
   ]
  },
  {
   "cell_type": "code",
   "execution_count": 30,
   "metadata": {},
   "outputs": [],
   "source": [
    "from sklearn.linear_model import Ridge, RidgeCV, ElasticNet, LassoCV, LassoLarsCV\n",
    "from sklearn.model_selection import cross_val_score\n",
    "\n",
    "def rmse_cv(model,x_train,y_train):\n",
    "    rmse= np.sqrt(-cross_val_score(model, x_train, y_train, scoring=\"neg_mean_squared_error\", cv = 5))\n",
    "    return(rmse)"
   ]
  },
  {
   "cell_type": "code",
   "execution_count": 31,
   "metadata": {},
   "outputs": [
    {
     "data": {
      "text/plain": [
       "Text(0, 0.5, 'rmse')"
      ]
     },
     "execution_count": 31,
     "metadata": {},
     "output_type": "execute_result"
    },
    {
     "data": {
      "image/png": "[encoded data removed]",
      "text/plain": [
       "<Figure size 864x432 with 1 Axes>"
      ]
     },
     "metadata": {
      "image/png": {
       "height": 386,
       "width": 735
      },
      "needs_background": "light"
     },
     "output_type": "display_data"
    }
   ],
   "source": [
    "model_ridge = Ridge()\n",
    "\n",
    "alphas = [0,0.01,0.05, 0.1, 0.3, 1, 3, 5, 10, 15, 30, 50, 75]\n",
    "cv_ridge = [rmse_cv(Ridge(alpha = alpha),x_train,y_train).mean() \n",
    "            for alpha in alphas]\n",
    "\n",
    "cv_ridge = pd.Series(cv_ridge, index = alphas)\n",
    "cv_ridge.plot(title = \"Validation - Just Do It\")\n",
    "plt.xlabel(\"alpha\")\n",
    "plt.ylabel(\"rmse\")\n"
   ]
  },
  {
   "cell_type": "code",
   "execution_count": 10,
   "metadata": {},
   "outputs": [
    {
     "data": {
      "text/plain": [
       "2.153966682816458e-05"
      ]
     },
     "execution_count": 10,
     "metadata": {},
     "output_type": "execute_result"
    }
   ],
   "source": [
    "cv_ridge.min()"
   ]
  },
  {
   "cell_type": "code",
   "execution_count": 21,
   "metadata": {},
   "outputs": [
    {
     "ename": "TypeError",
     "evalue": "__init__() got an unexpected keyword argument 'alpha'",
     "output_type": "error",
     "traceback": [
      "\u001b[1;31m---------------------------------------------------------------------------\u001b[0m",
      "\u001b[1;31mTypeError\u001b[0m                                 Traceback (most recent call last)",
      "\u001b[1;32m<ipython-input-21-2deb5bf7bf6c>\u001b[0m in \u001b[0;36m<module>\u001b[1;34m()\u001b[0m\n\u001b[0;32m      3\u001b[0m \u001b[0malphas\u001b[0m \u001b[1;33m=\u001b[0m \u001b[1;33m[\u001b[0m\u001b[1;36m0.05\u001b[0m\u001b[1;33m,\u001b[0m \u001b[1;36m0.1\u001b[0m\u001b[1;33m,\u001b[0m \u001b[1;36m1\u001b[0m\u001b[1;33m]\u001b[0m\u001b[1;33m\u001b[0m\u001b[0m\n\u001b[0;32m      4\u001b[0m cv_lasso = [rmse_cv(LassoCV(alpha = alpha),X_train,y_train).mean()\n\u001b[1;32m----> 5\u001b[1;33m             for alpha in alphas]\n\u001b[0m\u001b[0;32m      6\u001b[0m \u001b[1;33m\u001b[0m\u001b[0m\n\u001b[0;32m      7\u001b[0m \u001b[0mcv_lasso\u001b[0m\u001b[1;33m.\u001b[0m\u001b[0mplot\u001b[0m\u001b[1;33m(\u001b[0m\u001b[0mtitle\u001b[0m \u001b[1;33m=\u001b[0m \u001b[1;34m\"Validation - Just Do It\"\u001b[0m\u001b[1;33m)\u001b[0m\u001b[1;33m\u001b[0m\u001b[0m\n",
      "\u001b[1;32m<ipython-input-21-2deb5bf7bf6c>\u001b[0m in \u001b[0;36m<listcomp>\u001b[1;34m(.0)\u001b[0m\n\u001b[0;32m      3\u001b[0m \u001b[0malphas\u001b[0m \u001b[1;33m=\u001b[0m \u001b[1;33m[\u001b[0m\u001b[1;36m0.05\u001b[0m\u001b[1;33m,\u001b[0m \u001b[1;36m0.1\u001b[0m\u001b[1;33m,\u001b[0m \u001b[1;36m1\u001b[0m\u001b[1;33m]\u001b[0m\u001b[1;33m\u001b[0m\u001b[0m\n\u001b[0;32m      4\u001b[0m cv_lasso = [rmse_cv(LassoCV(alpha = alpha),X_train,y_train).mean()\n\u001b[1;32m----> 5\u001b[1;33m             for alpha in alphas]\n\u001b[0m\u001b[0;32m      6\u001b[0m \u001b[1;33m\u001b[0m\u001b[0m\n\u001b[0;32m      7\u001b[0m \u001b[0mcv_lasso\u001b[0m\u001b[1;33m.\u001b[0m\u001b[0mplot\u001b[0m\u001b[1;33m(\u001b[0m\u001b[0mtitle\u001b[0m \u001b[1;33m=\u001b[0m \u001b[1;34m\"Validation - Just Do It\"\u001b[0m\u001b[1;33m)\u001b[0m\u001b[1;33m\u001b[0m\u001b[0m\n",
      "\u001b[1;31mTypeError\u001b[0m: __init__() got an unexpected keyword argument 'alpha'"
     ]
    }
   ],
   "source": [
    "model_lasso = LassoCV()\n",
    "\n",
    "alphas = [0.05, 0.1, 1]\n",
    "cv_lasso = [rmse_cv(LassoCV(alpha = alpha),X_train,y_train).mean()\n",
    "            for alpha in alphas]\n",
    "\n",
    "cv_lasso.plot(title = \"Validation - Just Do It\")\n",
    "plt.xlabel(\"alpha\")\n",
    "plt.ylabel(\"rmse\")"
   ]
  },
  {
   "cell_type": "code",
   "execution_count": null,
   "metadata": {},
   "outputs": [],
   "source": []
  }
 ],
 "metadata": {
  "kernelspec": {
   "display_name": "Python 3",
   "language": "python",
   "name": "python3"
  },
  "language_info": {
   "codemirror_mode": {
    "name": "ipython",
    "version": 3
   },
   "file_extension": ".py",
   "mimetype": "text/x-python",
   "name": "python",
   "nbconvert_exporter": "python",
   "pygments_lexer": "ipython3",
   "version": "3.7.0"
  }
 },
 "nbformat": 4,
 "nbformat_minor": 2
}
